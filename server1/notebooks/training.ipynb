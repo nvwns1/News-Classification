{
 "cells": [
  {
   "cell_type": "code",
   "execution_count": 1,
   "metadata": {},
   "outputs": [
    {
     "ename": "ImportError",
     "evalue": "DLL load failed while importing _multiarray_umath: The specified module could not be found.",
     "output_type": "error",
     "traceback": [
      "\u001b[1;31m---------------------------------------------------------------------------\u001b[0m",
      "\u001b[1;31mImportError\u001b[0m                               Traceback (most recent call last)",
      "\u001b[1;31mImportError\u001b[0m: DLL load failed while importing _multiarray_umath: The specified module could not be found."
     ]
    },
    {
     "ename": "ImportError",
     "evalue": "numpy._core.multiarray failed to import",
     "output_type": "error",
     "traceback": [
      "\u001b[1;31m---------------------------------------------------------------------------\u001b[0m",
      "\u001b[1;31mImportError\u001b[0m                               Traceback (most recent call last)",
      "Cell \u001b[1;32mIn[1], line 2\u001b[0m\n\u001b[0;32m      1\u001b[0m \u001b[38;5;28;01mimport\u001b[39;00m \u001b[38;5;21;01mnumpy\u001b[39;00m \u001b[38;5;28;01mas\u001b[39;00m \u001b[38;5;21;01mnp\u001b[39;00m\n\u001b[1;32m----> 2\u001b[0m \u001b[38;5;28;01mimport\u001b[39;00m \u001b[38;5;21;01mpandas\u001b[39;00m \u001b[38;5;28;01mas\u001b[39;00m \u001b[38;5;21;01mpd\u001b[39;00m\n\u001b[0;32m      3\u001b[0m \u001b[38;5;28;01mimport\u001b[39;00m \u001b[38;5;21;01mmath\u001b[39;00m\n\u001b[0;32m      5\u001b[0m \u001b[38;5;28;01mfrom\u001b[39;00m \u001b[38;5;21;01mnltk\u001b[39;00m\u001b[38;5;21;01m.\u001b[39;00m\u001b[38;5;21;01mcorpus\u001b[39;00m \u001b[38;5;28;01mimport\u001b[39;00m stopwords\n",
      "File \u001b[1;32mc:\\Users\\user\\anaconda3\\envs\\news\\Lib\\site-packages\\pandas\\__init__.py:62\u001b[0m\n\u001b[0;32m     59\u001b[0m \u001b[38;5;66;03m# let init-time option registration happen\u001b[39;00m\n\u001b[0;32m     60\u001b[0m \u001b[38;5;28;01mimport\u001b[39;00m \u001b[38;5;21;01mpandas\u001b[39;00m\u001b[38;5;21;01m.\u001b[39;00m\u001b[38;5;21;01mcore\u001b[39;00m\u001b[38;5;21;01m.\u001b[39;00m\u001b[38;5;21;01mconfig_init\u001b[39;00m  \u001b[38;5;66;03m# pyright: ignore[reportUnusedImport] # noqa: F401\u001b[39;00m\n\u001b[1;32m---> 62\u001b[0m \u001b[38;5;28;01mfrom\u001b[39;00m \u001b[38;5;21;01mpandas\u001b[39;00m\u001b[38;5;21;01m.\u001b[39;00m\u001b[38;5;21;01mcore\u001b[39;00m\u001b[38;5;21;01m.\u001b[39;00m\u001b[38;5;21;01mapi\u001b[39;00m \u001b[38;5;28;01mimport\u001b[39;00m (\n\u001b[0;32m     63\u001b[0m     \u001b[38;5;66;03m# dtype\u001b[39;00m\n\u001b[0;32m     64\u001b[0m     ArrowDtype,\n\u001b[0;32m     65\u001b[0m     Int8Dtype,\n\u001b[0;32m     66\u001b[0m     Int16Dtype,\n\u001b[0;32m     67\u001b[0m     Int32Dtype,\n\u001b[0;32m     68\u001b[0m     Int64Dtype,\n\u001b[0;32m     69\u001b[0m     UInt8Dtype,\n\u001b[0;32m     70\u001b[0m     UInt16Dtype,\n\u001b[0;32m     71\u001b[0m     UInt32Dtype,\n\u001b[0;32m     72\u001b[0m     UInt64Dtype,\n\u001b[0;32m     73\u001b[0m     Float32Dtype,\n\u001b[0;32m     74\u001b[0m     Float64Dtype,\n\u001b[0;32m     75\u001b[0m     CategoricalDtype,\n\u001b[0;32m     76\u001b[0m     PeriodDtype,\n\u001b[0;32m     77\u001b[0m     IntervalDtype,\n\u001b[0;32m     78\u001b[0m     DatetimeTZDtype,\n\u001b[0;32m     79\u001b[0m     StringDtype,\n\u001b[0;32m     80\u001b[0m     BooleanDtype,\n\u001b[0;32m     81\u001b[0m     \u001b[38;5;66;03m# missing\u001b[39;00m\n\u001b[0;32m     82\u001b[0m     NA,\n\u001b[0;32m     83\u001b[0m     isna,\n\u001b[0;32m     84\u001b[0m     isnull,\n\u001b[0;32m     85\u001b[0m     notna,\n\u001b[0;32m     86\u001b[0m     notnull,\n\u001b[0;32m     87\u001b[0m     \u001b[38;5;66;03m# indexes\u001b[39;00m\n\u001b[0;32m     88\u001b[0m     Index,\n\u001b[0;32m     89\u001b[0m     CategoricalIndex,\n\u001b[0;32m     90\u001b[0m     RangeIndex,\n\u001b[0;32m     91\u001b[0m     MultiIndex,\n\u001b[0;32m     92\u001b[0m     IntervalIndex,\n\u001b[0;32m     93\u001b[0m     TimedeltaIndex,\n\u001b[0;32m     94\u001b[0m     DatetimeIndex,\n\u001b[0;32m     95\u001b[0m     PeriodIndex,\n\u001b[0;32m     96\u001b[0m     IndexSlice,\n\u001b[0;32m     97\u001b[0m     \u001b[38;5;66;03m# tseries\u001b[39;00m\n\u001b[0;32m     98\u001b[0m     NaT,\n\u001b[0;32m     99\u001b[0m     Period,\n\u001b[0;32m    100\u001b[0m     period_range,\n\u001b[0;32m    101\u001b[0m     Timedelta,\n\u001b[0;32m    102\u001b[0m     timedelta_range,\n\u001b[0;32m    103\u001b[0m     Timestamp,\n\u001b[0;32m    104\u001b[0m     date_range,\n\u001b[0;32m    105\u001b[0m     bdate_range,\n\u001b[0;32m    106\u001b[0m     Interval,\n\u001b[0;32m    107\u001b[0m     interval_range,\n\u001b[0;32m    108\u001b[0m     DateOffset,\n\u001b[0;32m    109\u001b[0m     \u001b[38;5;66;03m# conversion\u001b[39;00m\n\u001b[0;32m    110\u001b[0m     to_numeric,\n\u001b[0;32m    111\u001b[0m     to_datetime,\n\u001b[0;32m    112\u001b[0m     to_timedelta,\n\u001b[0;32m    113\u001b[0m     \u001b[38;5;66;03m# misc\u001b[39;00m\n\u001b[0;32m    114\u001b[0m     Flags,\n\u001b[0;32m    115\u001b[0m     Grouper,\n\u001b[0;32m    116\u001b[0m     factorize,\n\u001b[0;32m    117\u001b[0m     unique,\n\u001b[0;32m    118\u001b[0m     value_counts,\n\u001b[0;32m    119\u001b[0m     NamedAgg,\n\u001b[0;32m    120\u001b[0m     array,\n\u001b[0;32m    121\u001b[0m     Categorical,\n\u001b[0;32m    122\u001b[0m     set_eng_float_format,\n\u001b[0;32m    123\u001b[0m     Series,\n\u001b[0;32m    124\u001b[0m     DataFrame,\n\u001b[0;32m    125\u001b[0m )\n\u001b[0;32m    127\u001b[0m \u001b[38;5;28;01mfrom\u001b[39;00m \u001b[38;5;21;01mpandas\u001b[39;00m\u001b[38;5;21;01m.\u001b[39;00m\u001b[38;5;21;01mcore\u001b[39;00m\u001b[38;5;21;01m.\u001b[39;00m\u001b[38;5;21;01mdtypes\u001b[39;00m\u001b[38;5;21;01m.\u001b[39;00m\u001b[38;5;21;01mdtypes\u001b[39;00m \u001b[38;5;28;01mimport\u001b[39;00m SparseDtype\n\u001b[0;32m    129\u001b[0m \u001b[38;5;28;01mfrom\u001b[39;00m \u001b[38;5;21;01mpandas\u001b[39;00m\u001b[38;5;21;01m.\u001b[39;00m\u001b[38;5;21;01mtseries\u001b[39;00m\u001b[38;5;21;01m.\u001b[39;00m\u001b[38;5;21;01mapi\u001b[39;00m \u001b[38;5;28;01mimport\u001b[39;00m infer_freq\n",
      "File \u001b[1;32mc:\\Users\\user\\anaconda3\\envs\\news\\Lib\\site-packages\\pandas\\core\\api.py:1\u001b[0m\n\u001b[1;32m----> 1\u001b[0m \u001b[38;5;28;01mfrom\u001b[39;00m \u001b[38;5;21;01mpandas\u001b[39;00m\u001b[38;5;21;01m.\u001b[39;00m\u001b[38;5;21;01m_libs\u001b[39;00m \u001b[38;5;28;01mimport\u001b[39;00m (\n\u001b[0;32m      2\u001b[0m     NaT,\n\u001b[0;32m      3\u001b[0m     Period,\n\u001b[0;32m      4\u001b[0m     Timedelta,\n\u001b[0;32m      5\u001b[0m     Timestamp,\n\u001b[0;32m      6\u001b[0m )\n\u001b[0;32m      7\u001b[0m \u001b[38;5;28;01mfrom\u001b[39;00m \u001b[38;5;21;01mpandas\u001b[39;00m\u001b[38;5;21;01m.\u001b[39;00m\u001b[38;5;21;01m_libs\u001b[39;00m\u001b[38;5;21;01m.\u001b[39;00m\u001b[38;5;21;01mmissing\u001b[39;00m \u001b[38;5;28;01mimport\u001b[39;00m NA\n\u001b[0;32m      9\u001b[0m \u001b[38;5;28;01mfrom\u001b[39;00m \u001b[38;5;21;01mpandas\u001b[39;00m\u001b[38;5;21;01m.\u001b[39;00m\u001b[38;5;21;01mcore\u001b[39;00m\u001b[38;5;21;01m.\u001b[39;00m\u001b[38;5;21;01mdtypes\u001b[39;00m\u001b[38;5;21;01m.\u001b[39;00m\u001b[38;5;21;01mdtypes\u001b[39;00m \u001b[38;5;28;01mimport\u001b[39;00m (\n\u001b[0;32m     10\u001b[0m     ArrowDtype,\n\u001b[0;32m     11\u001b[0m     CategoricalDtype,\n\u001b[1;32m   (...)\u001b[0m\n\u001b[0;32m     14\u001b[0m     PeriodDtype,\n\u001b[0;32m     15\u001b[0m )\n",
      "File \u001b[1;32mc:\\Users\\user\\anaconda3\\envs\\news\\Lib\\site-packages\\pandas\\_libs\\__init__.py:17\u001b[0m\n\u001b[0;32m     13\u001b[0m \u001b[38;5;66;03m# Below imports needs to happen first to ensure pandas top level\u001b[39;00m\n\u001b[0;32m     14\u001b[0m \u001b[38;5;66;03m# module gets monkeypatched with the pandas_datetime_CAPI\u001b[39;00m\n\u001b[0;32m     15\u001b[0m \u001b[38;5;66;03m# see pandas_datetime_exec in pd_datetime.c\u001b[39;00m\n\u001b[0;32m     16\u001b[0m \u001b[38;5;28;01mimport\u001b[39;00m \u001b[38;5;21;01mpandas\u001b[39;00m\u001b[38;5;21;01m.\u001b[39;00m\u001b[38;5;21;01m_libs\u001b[39;00m\u001b[38;5;21;01m.\u001b[39;00m\u001b[38;5;21;01mpandas_parser\u001b[39;00m  \u001b[38;5;66;03m# isort: skip # type: ignore[reportUnusedImport]\u001b[39;00m\n\u001b[1;32m---> 17\u001b[0m \u001b[38;5;28;01mimport\u001b[39;00m \u001b[38;5;21;01mpandas\u001b[39;00m\u001b[38;5;21;01m.\u001b[39;00m\u001b[38;5;21;01m_libs\u001b[39;00m\u001b[38;5;21;01m.\u001b[39;00m\u001b[38;5;21;01mpandas_datetime\u001b[39;00m  \u001b[38;5;66;03m# noqa: F401 # isort: skip # type: ignore[reportUnusedImport]\u001b[39;00m\n\u001b[0;32m     18\u001b[0m \u001b[38;5;28;01mfrom\u001b[39;00m \u001b[38;5;21;01mpandas\u001b[39;00m\u001b[38;5;21;01m.\u001b[39;00m\u001b[38;5;21;01m_libs\u001b[39;00m\u001b[38;5;21;01m.\u001b[39;00m\u001b[38;5;21;01minterval\u001b[39;00m \u001b[38;5;28;01mimport\u001b[39;00m Interval\n\u001b[0;32m     19\u001b[0m \u001b[38;5;28;01mfrom\u001b[39;00m \u001b[38;5;21;01mpandas\u001b[39;00m\u001b[38;5;21;01m.\u001b[39;00m\u001b[38;5;21;01m_libs\u001b[39;00m\u001b[38;5;21;01m.\u001b[39;00m\u001b[38;5;21;01mtslibs\u001b[39;00m \u001b[38;5;28;01mimport\u001b[39;00m (\n\u001b[0;32m     20\u001b[0m     NaT,\n\u001b[0;32m     21\u001b[0m     NaTType,\n\u001b[1;32m   (...)\u001b[0m\n\u001b[0;32m     26\u001b[0m     iNaT,\n\u001b[0;32m     27\u001b[0m )\n",
      "\u001b[1;31mImportError\u001b[0m: numpy._core.multiarray failed to import"
     ]
    }
   ],
   "source": [
    "import numpy as np\n",
    "import pandas as pd\n",
    "import math\n",
    "\n",
    "from nltk.corpus import stopwords\n",
    "from nltk.tokenize import word_tokenize\n",
    "from nltk.stem import WordNetLemmatizer\n",
    "from nltk.corpus import wordnet\n",
    "\n",
    "from sklearn.feature_extraction.text import TfidfVectorizer\n",
    "from sklearn.model_selection import train_test_split\n",
    "\n",
    "from sklearn.metrics import confusion_matrix"
   ]
  },
  {
   "cell_type": "code",
   "execution_count": 2,
   "metadata": {},
   "outputs": [
    {
     "name": "stdout",
     "output_type": "stream",
     "text": [
      "Note: you may need to restart the kernel to use updated packages.\n"
     ]
    },
    {
     "name": "stderr",
     "output_type": "stream",
     "text": [
      "ERROR: Could not find a version that satisfies the requirement nltk.corpus (from versions: none)\n",
      "ERROR: No matching distribution found for nltk.corpus\n"
     ]
    }
   ],
   "source": []
  },
  {
   "cell_type": "code",
   "execution_count": 2,
   "metadata": {},
   "outputs": [],
   "source": [
    "def preprocess_text(text):\n",
    "    text = str(text)\n",
    "    # lowercasing\n",
    "    text = text.lower()\n",
    "    # Remove Stop Words\n",
    "    stop_words = set(stopwords.words(\"english\"))\n",
    "    word_tokens = word_tokenize(text)\n",
    "    filtered_list = [w for w in word_tokens if not w in stop_words]\n",
    "\n",
    "    # Remove numbers and special Symbols\n",
    "    # words like 100m 2m were not removed so using this\n",
    "    num = [\"0\", \"1\", \"2\", \"3\", \"4\", \"5\", \"6\", \"7\", \"8\", \"9\"]\n",
    "    num_filter = []\n",
    "    for i in range(0, len(filtered_list)):\n",
    "        for j in range(0, len(num)):\n",
    "            if num[j] in filtered_list[i]:\n",
    "                num_filter.append(filtered_list[i])\n",
    "                break\n",
    "\n",
    "    for filter in num_filter:\n",
    "        filtered_list.remove(filter)\n",
    "\n",
    "    filtered_list = [w for w in filtered_list if w.isalnum()]\n",
    "    filtered_list = [w for w in filtered_list if not w.isdigit()]\n",
    "\n",
    "    # Lematizing\n",
    "    wordnet_lemmatizer = WordNetLemmatizer()\n",
    "    lemmatized_list = [\n",
    "        wordnet_lemmatizer.lemmatize(w, wordnet.VERB) for w in filtered_list\n",
    "    ]\n",
    "    lemmatized_string = \" \".join(lemmatized_list)\n",
    "\n",
    "    return lemmatized_string"
   ]
  },
  {
   "cell_type": "code",
   "execution_count": null,
   "metadata": {},
   "outputs": [],
   "source": []
  },
  {
   "cell_type": "code",
   "execution_count": 3,
   "metadata": {},
   "outputs": [
    {
     "name": "stdout",
     "output_type": "stream",
     "text": [
      "   ArticleId                                               Text  Category  \\\n",
      "0       1833  worldcom launch defence lawyers defend former ...  business   \n",
      "1        154  german business confidence slide german busine...  business   \n",
      "2       1101  bbc poll indicate economic gloom citizens majo...  business   \n",
      "3       1976  lifestyle govern mobile choice faster better f...      tech   \n",
      "4        917  enron boss payout eighteen former enron direct...  business   \n",
      "\n",
      "   CategoryId  \n",
      "0           0  \n",
      "1           0  \n",
      "2           0  \n",
      "3           4  \n",
      "4           0  \n"
     ]
    }
   ],
   "source": [
    "import pandas as pd\n",
    "\n",
    "# Load the BBC News dataset\n",
    "df = pd.read_csv(\"../dataset/BBC News Train.csv\")\n",
    "\n",
    "mapping = {\"business\": 0, \"entertainment\": 1, \"politics\": 2, \"sport\": 3, \"tech\": 4}\n",
    "df[\"CategoryId\"] = df[\"Category\"].map(mapping)\n",
    "df[\"Text\"] = df[\"Text\"].apply(preprocess_text)\n",
    "\n",
    "# Display the first few rows of the dataset\n",
    "print(df.head())\n"
   ]
  },
  {
   "cell_type": "code",
   "execution_count": 4,
   "metadata": {},
   "outputs": [],
   "source": [
    "vectorizer = TfidfVectorizer(stop_words='english', max_features=5000)\n",
    "features = vectorizer.fit_transform(df[\"Text\"]).toarray()"
   ]
  },
  {
   "cell_type": "code",
   "execution_count": 5,
   "metadata": {},
   "outputs": [
    {
     "data": {
      "text/plain": [
       "(1490, 5000)"
      ]
     },
     "execution_count": 5,
     "metadata": {},
     "output_type": "execute_result"
    }
   ],
   "source": [
    "X = features\n",
    "y = df.loc[:, \"CategoryId\"].values\n",
    "X.shape"
   ]
  },
  {
   "cell_type": "code",
   "execution_count": 6,
   "metadata": {},
   "outputs": [],
   "source": [
    "# Train test split\n",
    "X_train, X_test, y_train, y_test = train_test_split(X, y, test_size=0.2, random_state=0)"
   ]
  },
  {
   "cell_type": "code",
   "execution_count": 7,
   "metadata": {},
   "outputs": [],
   "source": [
    "from sklearn.preprocessing import LabelEncoder\n",
    "import MySVM\n",
    "import numpy as np\n",
    "\n",
    "\n",
    "class OneVsOneSVM:\n",
    "    \"\"\"\n",
    "    Parameters\n",
    "    ----------\n",
    "    C : float, optional (default=1.0)\n",
    "    Penalty parameter C of the error term.\n",
    "\n",
    "    max_iter : int, optional (default=6000)\n",
    "\n",
    "    learning_rate : float, optional (default=0.00001)\n",
    "\n",
    "    Callable Functions\n",
    "    ------------------\n",
    "\n",
    "    fit(X,Y) : take data as X, target_labels as Y as input and trains the SVM model\n",
    "\n",
    "    score(X,Y) : take data as X, target_labels as Y as input and returns the accuracy of the model\n",
    "\n",
    "    \"\"\"\n",
    "\n",
    "    def __init__(self, C=1.0, max_iter=6000, learning_rate=0.00001):\n",
    "        self.max_iter = max_iter\n",
    "        self.learning_rate = learning_rate\n",
    "        self.C = C\n",
    "        self.svm_classifiers = {}\n",
    "\n",
    "    def generateClasswiseData(self, X, Y):\n",
    "        data = {}\n",
    "\n",
    "        no_of_classes = len(np.unique(Y))\n",
    "        no_of_samples = X.shape[0]\n",
    "\n",
    "        for i in range(no_of_classes):\n",
    "            data[i] = []\n",
    "\n",
    "        for i in range(no_of_samples):\n",
    "            data[Y[i]].append(X[i])\n",
    "\n",
    "        for k in range(no_of_classes):\n",
    "            data[k] = np.array(data[k])\n",
    "\n",
    "        return data\n",
    "\n",
    "    def getPairData(self, d1, d2):\n",
    "\n",
    "        l1 = d1.shape[0]\n",
    "        l2 = d2.shape[0]\n",
    "        data = np.zeros((l1 + l2, d1.shape[1]))\n",
    "        labels = np.zeros(l1 + l2)\n",
    "\n",
    "        data[:l1] = d1\n",
    "        data[l1:] = d2\n",
    "\n",
    "        labels[:l1] = 1\n",
    "        labels[l1:] = -1\n",
    "\n",
    "        return data, labels\n",
    "\n",
    "    def fit(self, X, Y):\n",
    "        global le\n",
    "        le = LabelEncoder()\n",
    "        le.fit(Y)\n",
    "        Y = le.transform(Y)\n",
    "\n",
    "        data = self.generateClasswiseData(X, Y)\n",
    "        svc = MySVM.SVC(self.C)\n",
    "        for i in range(len(data)):\n",
    "            self.svm_classifiers[i] = {}\n",
    "            for j in range(i + 1, len(np.unique(Y))):\n",
    "                x, y = self.getPairData(data[i], data[j])\n",
    "                wts, b, losses = svc.fit(\n",
    "                    x, y, learning_rate=self.learning_rate, max_itr=self.max_iter\n",
    "                )\n",
    "                self.svm_classifiers[i][j] = (wts, b)\n",
    "\n",
    "    def predict(self, X):\n",
    "        X = np.array(X)\n",
    "        classes = len(self.svm_classifiers)\n",
    "        count = np.zeros(\n",
    "            classes,\n",
    "        )\n",
    "        for i in range(classes):\n",
    "            for j in range(i + 1, classes):\n",
    "                W = self.svm_classifiers[i][j][0]\n",
    "                b = self.svm_classifiers[i][j][1]\n",
    "                if (np.dot(W, X.T) + b) >= 0:\n",
    "                    count[i] += 1\n",
    "                else:\n",
    "                    count[j] += 1\n",
    "\n",
    "        index = np.argmax(count)\n",
    "        return le.inverse_transform([index])\n",
    "\n",
    "\n",
    "    def score(self, X, Y):\n",
    "        count = 0\n",
    "        for i in range(X.shape[0]):\n",
    "            if Y[i] == self.predict(X[i]):\n",
    "                count += 1\n",
    "\n",
    "        return count / X.shape[0]\n",
    "    \n",
    "    def predict_proba(self, X):\n",
    "        X = np.array(X)\n",
    "        classes = len(self.svm_classifiers)\n",
    "        votes = np.zeros(classes)\n",
    "\n",
    "        # Voting from each pairwise classifier\n",
    "        for i in range(classes):\n",
    "            for j in range(i + 1, classes):\n",
    "                W = self.svm_classifiers[i][j][0]\n",
    "                b = self.svm_classifiers[i][j][1]\n",
    "                if (np.dot(W, X.T) + b) >= 0:\n",
    "                    votes[i] += 1\n",
    "                else:\n",
    "                    votes[j] += 1\n",
    "\n",
    "        # Convert votes into probabilities using normalization\n",
    "        probabilities = votes / np.sum(votes)\n",
    "        return probabilities"
   ]
  },
  {
   "cell_type": "code",
   "execution_count": 8,
   "metadata": {},
   "outputs": [],
   "source": [
    "# Initialize and train the OneVsOneSVM model\n",
    "ovo_SVM = OneVsOneSVM(C=10, max_iter=6000, learning_rate=0.00001)\n",
    "ovo_SVM.fit(X_train, y_train)"
   ]
  },
  {
   "cell_type": "code",
   "execution_count": 9,
   "metadata": {},
   "outputs": [
    {
     "data": {
      "text/plain": [
       "0.9798657718120806"
      ]
     },
     "execution_count": 9,
     "metadata": {},
     "output_type": "execute_result"
    }
   ],
   "source": [
    "ovo_SVM.score(X_test, y_test)"
   ]
  },
  {
   "cell_type": "code",
   "execution_count": 10,
   "metadata": {},
   "outputs": [
    {
     "data": {
      "text/plain": [
       "0.9798657718120806"
      ]
     },
     "execution_count": 10,
     "metadata": {},
     "output_type": "execute_result"
    }
   ],
   "source": [
    "ovo_SVM.score(X_test, y_test)"
   ]
  },
  {
   "cell_type": "code",
   "execution_count": 11,
   "metadata": {},
   "outputs": [
    {
     "name": "stdout",
     "output_type": "stream",
     "text": [
      "Precision: 0.9799231032452508\n",
      "Recall: 0.9798657718120806\n",
      "F1 Score: 0.979838049488504\n"
     ]
    }
   ],
   "source": [
    "from sklearn.metrics import precision_score, recall_score, f1_score\n",
    "\n",
    "y_pred_test = []\n",
    "y_pred_actual = []\n",
    "\n",
    "for i in range(len(X_test)):\n",
    "    y_pred = ovo_SVM.predict([X_test[i]])  # Predict for a single sample\n",
    "    y_actual = y_test[i]  # Actual label for that sample\n",
    "\n",
    "    y_pred_test.append(y_pred[0])\n",
    "    y_pred_actual.append(y_actual)\n",
    "    \n",
    "# Calculate precision\n",
    "precision = precision_score(y_pred_actual, y_pred_test, average='weighted')\n",
    "\n",
    "# Calculate recall\n",
    "recall = recall_score(y_pred_actual, y_pred_test, average='weighted')\n",
    "\n",
    "# Calculate F1 score\n",
    "f1 = f1_score(y_test, y_pred_test, average='weighted')\n",
    "print(f\"Precision: {precision}\")\n",
    "print(f\"Recall: {recall}\")\n",
    "print(f\"F1 Score: {f1}\")\n",
    "\n"
   ]
  },
  {
   "cell_type": "code",
   "execution_count": 12,
   "metadata": {},
   "outputs": [
    {
     "name": "stdout",
     "output_type": "stream",
     "text": [
      "               precision    recall  f1-score   support\n",
      "\n",
      "     Business       0.97      0.98      0.98        63\n",
      "Entertainment       0.98      0.98      0.98        63\n",
      "     Politics       0.96      0.98      0.97        52\n",
      "       Sports       1.00      0.98      0.99        66\n",
      "         Tech       0.98      0.96      0.97        54\n",
      "\n",
      "     accuracy                           0.98       298\n",
      "    macro avg       0.98      0.98      0.98       298\n",
      " weighted avg       0.98      0.98      0.98       298\n",
      "\n"
     ]
    }
   ],
   "source": [
    "from sklearn.metrics import classification_report\n",
    "\n",
    "report = classification_report(y_pred_test, y_pred_actual, \n",
    "                               target_names=['Business', 'Entertainment', 'Politics', 'Sports', 'Tech'])\n",
    "print(report)"
   ]
  },
  {
   "cell_type": "code",
   "execution_count": null,
   "metadata": {},
   "outputs": [],
   "source": []
  },
  {
   "cell_type": "code",
   "execution_count": 13,
   "metadata": {},
   "outputs": [
    {
     "name": "stdout",
     "output_type": "stream",
     "text": [
      "Classification Report:\n"
     ]
    },
    {
     "data": {
      "image/png": "[encoded data removed]",
      "text/plain": [
       "<Figure size 1000x700 with 2 Axes>"
      ]
     },
     "metadata": {},
     "output_type": "display_data"
    }
   ],
   "source": [
    "from sklearn.metrics import confusion_matrix\n",
    "import seaborn as sns\n",
    "import matplotlib.pyplot as plt\n",
    "\n",
    "print(\"Classification Report:\")\n",
    "# Calculate the confusion matrix\n",
    "cm = confusion_matrix(y_pred_test, y_pred_actual)\n",
    "\n",
    "# Visualization\n",
    "plt.figure(figsize=(10, 7))\n",
    "sns.heatmap(cm, annot=True, fmt='d', cmap='Blues')\n",
    "plt.xlabel('Predicted Label')\n",
    "plt.ylabel('True Label')\n",
    "plt.title('Confusion Matrix')\n",
    "plt.show()\n"
   ]
  },
  {
   "cell_type": "code",
   "execution_count": 27,
   "metadata": {},
   "outputs": [
    {
     "name": "stdout",
     "output_type": "stream",
     "text": [
      "Business news predicted as: business\n",
      "Entertainment news predicted as: entertainment\n",
      "Politics news predicted as: politics\n",
      "Sports news predicted as: sports\n",
      "Tech news predicted as: tech\n",
      "Business news predicted as: [[0.84495899 0.00819182 0.00772838 0.00623534 0.13288547]]\n",
      "Entertainment news predicted as: [[0.01842721 0.91494485 0.01660144 0.01655663 0.03346987]]\n",
      "Politics news predicted as: [[2.56482351e-03 3.14158143e-04 9.96067999e-01 3.78178131e-04\n",
      "  6.74841528e-04]]\n",
      "Sports news predicted as: [[0.03110613 0.01843589 0.02301558 0.91074113 0.01670127]]\n",
      "Tech news predicted as: [[0.14553324 0.23473351 0.08934445 0.06467527 0.46571354]]\n"
     ]
    }
   ],
   "source": [
    "# Example custom news texts\n",
    "business_news = \"Global market trends indicate a significant rise in e-commerce investments. Major companies are expanding their online presence to capture growing digital consumer demand.\"\n",
    "entertainment_news = \"The latest blockbuster movie, directed by renowned filmmaker Jane Doe, has shattered box office records and received rave reviews from critics. Red carpet\"\n",
    "politics_news = \"In a recent speech, leader michael, down street, council tax, tory leader, election campaign, mr kennedy Leader Government the President outlined new policies and constitutions aimed at improving national healthcare and addressing income inequality in the country.\"\n",
    "sports_news = \"The local soccer team secured a dramatic victory in the championship final, with a last-minute goal clinching the title against their long-time rivals.\"\n",
    "tech_news = \"Tech giants Computer are unveiling their newest smart phones featuring advanced AI capabilities and enhanced security features that promise to revolutionize the industry.\"\n",
    "\n",
    "# Preprocess and vectorize the news texts\n",
    "business_vectorized = vectorizer.transform([preprocess_text(business_news)]).toarray()\n",
    "entertainment_vectorized = vectorizer.transform([preprocess_text(entertainment_news)]).toarray()\n",
    "politics_vectorized = vectorizer.transform([preprocess_text(politics_news)]).toarray()\n",
    "sports_vectorized = vectorizer.transform([preprocess_text(sports_news)]).toarray()\n",
    "tech_vectorized = vectorizer.transform([preprocess_text(tech_news)]).toarray()\n",
    "\n",
    "mapping = {0: \"business\", 1: \"entertainment\", 2: \"politics\", 3: \"sports\", 4: \"tech\"}\n",
    "\n",
    "# Predict the category\n",
    "predicted_business = ovo_SVM.predict(business_vectorized)[0]\n",
    "predicted_entertainment = ovo_SVM.predict(entertainment_vectorized)[0]\n",
    "predicted_politics = ovo_SVM.predict(politics_vectorized)[0]\n",
    "predicted_sports = ovo_SVM.predict(sports_vectorized)[0]\n",
    "predicted_tech = ovo_SVM.predict(tech_vectorized)[0]\n",
    "\n",
    "predicted_business1 = ovo_SVM.predict_proba(business_vectorized)\n",
    "predicted_entertainment1 = ovo_SVM.predict_proba(entertainment_vectorized)\n",
    "predicted_politics1 = ovo_SVM.predict_proba(politics_vectorized)\n",
    "predicted_sports1 = ovo_SVM.predict_proba(sports_vectorized)\n",
    "predicted_tech1 = ovo_SVM.predict_proba(tech_vectorized)\n",
    "\n",
    "# Print the predicted categories\n",
    "print(f\"Business news predicted as: {mapping[predicted_business]}\")\n",
    "print(f\"Entertainment news predicted as: {mapping[predicted_entertainment]}\")\n",
    "print(f\"Politics news predicted as: {mapping[predicted_politics]}\")\n",
    "print(f\"Sports news predicted as: {mapping[predicted_sports]}\")\n",
    "print(f\"Tech news predicted as: {mapping[predicted_tech]}\")\n",
    "\n",
    "print(f\"Business news predicted as: {predicted_business1}\")\n",
    "print(f\"Entertainment news predicted as: {predicted_entertainment1}\")\n",
    "print(f\"Politics news predicted as: {predicted_politics1}\")\n",
    "print(f\"Sports news predicted as: {predicted_sports1}\")\n",
    "print(f\"Tech news predicted as: {predicted_tech1}\")\n",
    "\n"
   ]
  },
  {
   "cell_type": "code",
   "execution_count": 15,
   "metadata": {},
   "outputs": [
    {
     "name": "stdout",
     "output_type": "stream",
     "text": [
      "Model Accuracy: 99.26%\n"
     ]
    }
   ],
   "source": [
    "# Evaluate the model\n",
    "accuracy = ovo_SVM.score(X, y)\n",
    "print(f\"Model Accuracy: {accuracy * 100:.2f}%\")"
   ]
  },
  {
   "cell_type": "code",
   "execution_count": 16,
   "metadata": {},
   "outputs": [
    {
     "data": {
      "text/plain": [
       "['../model/svm.pkl']"
      ]
     },
     "execution_count": 16,
     "metadata": {},
     "output_type": "execute_result"
    }
   ],
   "source": [
    "import joblib\n",
    "\n",
    "# Save the model to disk\n",
    "filename = \"../model/svm.pkl\"\n",
    "joblib.dump(ovo_SVM, filename)\n",
    "\n"
   ]
  },
  {
   "cell_type": "code",
   "execution_count": 17,
   "metadata": {},
   "outputs": [
    {
     "data": {
      "text/plain": [
       "['../model/tfidf.pkl']"
      ]
     },
     "execution_count": 17,
     "metadata": {},
     "output_type": "execute_result"
    }
   ],
   "source": [
    "# save the vecorizer\n",
    "filename = \"../model/tfidf.pkl\"\n",
    "joblib.dump(vectorizer, filename)"
   ]
  },
  {
   "cell_type": "markdown",
   "metadata": {},
   "source": [
    "# Import the necessary"
   ]
  },
  {
   "cell_type": "code",
   "execution_count": 22,
   "metadata": {},
   "outputs": [],
   "source": [
    "import joblib\n",
    "\n",
    "# Load the model from disk\n",
    "filename = \"../model/svm.pkl\"\n",
    "loaded_model = joblib.load(filename)\n"
   ]
  },
  {
   "cell_type": "code",
   "execution_count": 23,
   "metadata": {},
   "outputs": [],
   "source": [
    "# Load the vectorizer\n",
    "filename = \"../model/tfidf.pkl\"\n",
    "loaded_vectorizer = joblib.load(filename)"
   ]
  },
  {
   "cell_type": "code",
   "execution_count": 24,
   "metadata": {},
   "outputs": [
    {
     "name": "stdout",
     "output_type": "stream",
     "text": [
      "Business news predicted as: business\n",
      "Entertainment news predicted as: entertainment\n",
      "Politics news predicted as: politics\n",
      "Sports news predicted as: sports\n",
      "Tech news predicted as: tech\n",
      "Business news predicted as: [[0.84495899 0.00819182 0.00772838 0.00623534 0.13288547]]\n",
      "Entertainment news predicted as: [[0.01842721 0.91494485 0.01660144 0.01655663 0.03346987]]\n",
      "Politics news predicted as: [[2.56482351e-03 3.14158143e-04 9.96067999e-01 3.78178131e-04\n",
      "  6.74841528e-04]]\n",
      "Sports news predicted as: [[0.03110613 0.01843589 0.02301558 0.91074113 0.01670127]]\n",
      "Tech news predicted as: [[0.14553324 0.23473351 0.08934445 0.06467527 0.46571354]]\n"
     ]
    }
   ],
   "source": [
    "# Example custom news texts\n",
    "business_news = \"Global market trends indicate a significant rise in e-commerce investments. Major companies are expanding their online presence to capture growing digital consumer demand.\"\n",
    "entertainment_news = \"The latest blockbuster movie, directed by renowned filmmaker Jane Doe, has shattered box office records and received rave reviews from critics. Red carpet\"\n",
    "politics_news = \"In a recent speech, leader michael, down street, council tax, tory leader, election campaign, mr kennedy Leader Government the President outlined new policies and constitutions aimed at improving national healthcare and addressing income inequality in the country.\"\n",
    "sports_news = \"The local soccer team secured a dramatic victory in the championship final, with a last-minute goal clinching the title against their long-time rivals.\"\n",
    "tech_news = \"Tech giants Computer are unveiling their newest smart phones featuring advanced AI capabilities and enhanced security features that promise to revolutionize the industry.\"\n",
    "\n",
    "# Preprocess and vectorize the news texts\n",
    "business_vectorized = loaded_vectorizer.transform([preprocess_text(business_news)]).toarray()\n",
    "entertainment_vectorized = loaded_vectorizer.transform([preprocess_text(entertainment_news)]).toarray()\n",
    "politics_vectorized = loaded_vectorizer.transform([preprocess_text(politics_news)]).toarray()\n",
    "sports_vectorized = loaded_vectorizer.transform([preprocess_text(sports_news)]).toarray()\n",
    "tech_vectorized = loaded_vectorizer.transform([preprocess_text(tech_news)]).toarray()\n",
    "\n",
    "mapping = {0: \"business\", 1: \"entertainment\", 2: \"politics\", 3: \"sports\", 4: \"tech\"}\n",
    "\n",
    "# Predict the category\n",
    "predicted_business = loaded_model.predict(business_vectorized)[0]\n",
    "predicted_entertainment = loaded_model.predict(entertainment_vectorized)[0]\n",
    "predicted_politics = loaded_model.predict(politics_vectorized)[0]\n",
    "predicted_sports = loaded_model.predict(sports_vectorized)[0]\n",
    "predicted_tech = loaded_model.predict(tech_vectorized)[0]\n",
    "\n",
    "predicted_business1 = loaded_model.predict_proba(business_vectorized)\n",
    "predicted_entertainment1 = loaded_model.predict_proba(entertainment_vectorized)\n",
    "predicted_politics1 = loaded_model.predict_proba(politics_vectorized)\n",
    "predicted_sports1 = loaded_model.predict_proba(sports_vectorized)\n",
    "predicted_tech1 = loaded_model.predict_proba(tech_vectorized)\n",
    "\n",
    "# Print the predicted categories\n",
    "print(f\"Business news predicted as: {mapping[predicted_business]}\")\n",
    "print(f\"Entertainment news predicted as: {mapping[predicted_entertainment]}\")\n",
    "print(f\"Politics news predicted as: {mapping[predicted_politics]}\")\n",
    "print(f\"Sports news predicted as: {mapping[predicted_sports]}\")\n",
    "print(f\"Tech news predicted as: {mapping[predicted_tech]}\")\n",
    "\n",
    "print(f\"Business news predicted as: {predicted_business1}\")\n",
    "print(f\"Entertainment news predicted as: {predicted_entertainment1}\")\n",
    "print(f\"Politics news predicted as: {predicted_politics1}\")\n",
    "print(f\"Sports news predicted as: {predicted_sports1}\")\n",
    "print(f\"Tech news predicted as: {predicted_tech1}\")\n",
    "\n"
   ]
  },
  {
   "cell_type": "code",
   "execution_count": 25,
   "metadata": {},
   "outputs": [
    {
     "name": "stdout",
     "output_type": "stream",
     "text": [
      "Tech news predicted as: tech\n",
      "Tech news predicted as: [[0.28328705 0.04040974 0.03388404 0.02412339 0.61829578]]\n"
     ]
    }
   ],
   "source": [
    "# New News\n",
    "tech_news = \"Iranian hackers distributed information about Donald Trump's electoral campaign to people linked to the Biden campaign, according to the FBI and US intelligence agencies. US officials now believe that information taken from the Trump campaign was sent in unsolicited emails to people linked to the campaign in late June and early July - before Biden dropped out of the race for president. There is currently no evidence that the hackers received any reply from any recipients. In August, officials warned that Iran hopes to stoke discord and undermine confidence in US institutions ahead of the November election. US officials said that Iran had used “social engineering and other efforts” to seek out direct access to both the Democratic and Republican campaigns – a tactic they said had been used by both Iran and Russia in other countries around the world.\"\n",
    "tech_vectorized = loaded_vectorizer.transform([preprocess_text(tech_news)]).toarray()\n",
    "predicted_tech = loaded_model.predict(tech_vectorized)[0]\n",
    "predicted_tech1 = loaded_model.predict_proba(tech_vectorized)\n",
    "print(f\"Tech news predicted as: {mapping[predicted_tech]}\")\n",
    "print(f\"Tech news predicted as: {predicted_tech1}\")\n",
    "mapping = {0: \"business\", 1: \"entertainment\", 2: \"politics\", 3: \"sports\", 4: \"tech\"}"
   ]
  },
  {
   "cell_type": "code",
   "execution_count": null,
   "metadata": {},
   "outputs": [],
   "source": []
  }
 ],
 "metadata": {
  "kernelspec": {
   "display_name": "news",
   "language": "python",
   "name": "python3"
  },
  "language_info": {
   "codemirror_mode": {
    "name": "ipython",
    "version": 3
   },
   "file_extension": ".py",
   "mimetype": "text/x-python",
   "name": "python",
   "nbconvert_exporter": "python",
   "pygments_lexer": "ipython3",
   "version": "3.11.10"
  }
 },
 "nbformat": 4,
 "nbformat_minor": 2
}
