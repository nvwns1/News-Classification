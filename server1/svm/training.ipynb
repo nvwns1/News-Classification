{
 "cells": [
  {
   "cell_type": "code",
   "execution_count": 1,
   "metadata": {},
   "outputs": [],
   "source": [
    "import numpy as np\n",
    "import pandas as pd"
   ]
  },
  {
   "cell_type": "code",
   "execution_count": 2,
   "metadata": {},
   "outputs": [],
   "source": [
    "# Binary SVM Classifier\n",
    "class BinarySVM:\n",
    "    def __init__(self, C=1.0, learning_rate=0.001, n_iters=1000):\n",
    "        self.C = C\n",
    "        self.learning_rate = learning_rate\n",
    "        self.n_iters = n_iters\n",
    "        self.weights = None\n",
    "        self.bias = None\n",
    "\n",
    "    def fit(self, X, y):\n",
    "        n_samples, n_features = X.shape\n",
    "        self.weights = np.zeros(n_features)\n",
    "        self.bias = 0\n",
    "\n",
    "        for iteration in range(self.n_iters):\n",
    "            for idx, x_i in enumerate(X):\n",
    "                condition = y[idx] * (np.dot(x_i, self.weights) - self.bias) >= 1\n",
    "                if condition:\n",
    "                    self.weights -= self.learning_rate * (2 * self.C * self.weights)\n",
    "                else:\n",
    "                    self.weights -= self.learning_rate * (2 * self.C * self.weights - np.dot(x_i, y[idx]))\n",
    "                    self.bias -= self.learning_rate * y[idx]\n",
    "\n",
    "            # Debugging: print weights and bias at every 100 iterations\n",
    "            if iteration % 100 == 0:\n",
    "                print(f\"Iteration {iteration}: Weights: {self.weights}, Bias: {self.bias}\")\n",
    "\n",
    "    def predict(self, X):\n",
    "        return np.sign(np.dot(X, self.weights) - self.bias)"
   ]
  },
  {
   "cell_type": "code",
   "execution_count": 3,
   "metadata": {},
   "outputs": [],
   "source": [
    "\n",
    "# One-vs-One SVM Classifier\n",
    "class OneVsOneSVM:\n",
    "    def __init__(self, C=1.0, learning_rate=0.001, n_iters=1000):\n",
    "        self.C = C\n",
    "        self.learning_rate = learning_rate\n",
    "        self.n_iters = n_iters\n",
    "        self.classifiers = []\n",
    "\n",
    "    def fit(self, X, y):\n",
    "        unique_classes = np.unique(y)\n",
    "        n_classes = len(unique_classes)\n",
    "        print(f\"Unique classes: {unique_classes}\")  # Debugging line\n",
    "        for i in range(n_classes):\n",
    "            for j in range(i + 1, n_classes):\n",
    "                class_i = unique_classes[i]\n",
    "                class_j = unique_classes[j]\n",
    "\n",
    "                # Filter the data for the two classes\n",
    "                idx = np.where((y == class_i) | (y == class_j))\n",
    "                X_filtered = X[idx]\n",
    "                y_filtered = y[idx]\n",
    "\n",
    "                # Convert class labels to +1 and -1\n",
    "                y_filtered = np.where(y_filtered == class_i, 1, -1)\n",
    "\n",
    "                # Train the binary classifier\n",
    "                clf = BinarySVM(C=self.C, learning_rate=self.learning_rate, n_iters=self.n_iters)\n",
    "                clf.fit(X_filtered, y_filtered)\n",
    "                self.classifiers.append((clf, (class_i, class_j)))\n",
    "\n",
    "    def predict(self, X):\n",
    "        n_classes = len(np.unique(y))\n",
    "        votes = np.zeros((X.shape[0], n_classes))\n",
    "\n",
    "        for clf, class_labels in self.classifiers:\n",
    "            predictions = clf.predict(X)\n",
    "            print(f\"Classifier {class_labels} predictions: {predictions}\")  # Debugging line\n",
    "            for idx, pred in enumerate(predictions):\n",
    "                if pred == 1:\n",
    "                    votes[idx, class_labels[0] - 1] += 1  # Adjust index for zero-based array\n",
    "                else:\n",
    "                    votes[idx, class_labels[1] - 1] += 1  # Adjust index for zero-based array\n",
    "\n",
    "        # Return the class with the most votes\n",
    "        final_predictions = np.argmax(votes, axis=1)\n",
    "        print(f\"Votes: {votes}\")  # Debugging line\n",
    "        print(f\"Final predictions: {final_predictions}\")  # Debugging line\n",
    "        return final_predictions\n"
   ]
  },
  {
   "cell_type": "code",
   "execution_count": null,
   "metadata": {},
   "outputs": [],
   "source": []
  }
 ],
 "metadata": {
  "kernelspec": {
   "display_name": "primeai",
   "language": "python",
   "name": "python3"
  },
  "language_info": {
   "codemirror_mode": {
    "name": "ipython",
    "version": 3
   },
   "file_extension": ".py",
   "mimetype": "text/x-python",
   "name": "python",
   "nbconvert_exporter": "python",
   "pygments_lexer": "ipython3",
   "version": "3.11.9"
  }
 },
 "nbformat": 4,
 "nbformat_minor": 2
}
